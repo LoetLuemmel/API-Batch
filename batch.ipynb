{
 "cells": [
  {
   "cell_type": "code",
   "execution_count": 8,
   "metadata": {},
   "outputs": [],
   "source": [
    "from openai import OpenAI\n",
    "client = OpenAI()\n",
    "\n",
    "batch_input_file = client.files.create(\n",
    "  file=open(\"batchinput.jsonl\", \"rb\"),\n",
    "  purpose=\"batch\"\n",
    ")"
   ]
  },
  {
   "cell_type": "code",
   "execution_count": 9,
   "metadata": {},
   "outputs": [
    {
     "data": {
      "text/plain": [
       "Batch(id='batch_66f3c95740448190907a4f57b2a36bb0', completion_window='24h', created_at=1727252823, endpoint='/v1/chat/completions', input_file_id='file-XmBe2P2NnypD23VdXEi07K1J', object='batch', status='validating', cancelled_at=None, cancelling_at=None, completed_at=None, error_file_id=None, errors=None, expired_at=None, expires_at=1727339223, failed_at=None, finalizing_at=None, in_progress_at=None, metadata={'description': 'nightly eval job'}, output_file_id=None, request_counts=BatchRequestCounts(completed=0, failed=0, total=0))"
      ]
     },
     "execution_count": 9,
     "metadata": {},
     "output_type": "execute_result"
    }
   ],
   "source": [
    "batch_input_file_id = batch_input_file.id\n",
    "\n",
    "client.batches.create(\n",
    "    input_file_id=batch_input_file_id,\n",
    "    endpoint=\"/v1/chat/completions\",\n",
    "    completion_window=\"24h\",\n",
    "    metadata={\n",
    "      \"description\": \"nightly eval job\"\n",
    "    }\n",
    ")"
   ]
  },
  {
   "cell_type": "code",
   "execution_count": 10,
   "metadata": {},
   "outputs": [
    {
     "data": {
      "text/plain": [
       "Batch(id='batch_66f3b1184efc8190b6a7c533d917426e', completion_window='24h', created_at=1727246616, endpoint='/v1/chat/completions', input_file_id='file-0ugs6PcWmstxVjVo1oMLjh0h', object='batch', status='completed', cancelled_at=None, cancelling_at=None, completed_at=1727246619, error_file_id=None, errors=None, expired_at=None, expires_at=1727333016, failed_at=None, finalizing_at=1727246619, in_progress_at=1727246616, metadata={'description': 'nightly eval job'}, output_file_id='file-kv4GsCrcbEGXCjTregSTeUCB', request_counts=BatchRequestCounts(completed=2, failed=0, total=2))"
      ]
     },
     "execution_count": 10,
     "metadata": {},
     "output_type": "execute_result"
    }
   ],
   "source": [
    "from openai import OpenAI\n",
    "client = OpenAI()\n",
    "\n",
    "client.batches.retrieve(\"batch_66f3b1184efc8190b6a7c533d917426e\")"
   ]
  },
  {
   "cell_type": "code",
   "execution_count": 11,
   "metadata": {},
   "outputs": [
    {
     "name": "stdout",
     "output_type": "stream",
     "text": [
      "{\"custom_id\": \"request-1\", \"method\": \"POST\", \"url\": \"/v1/chat/completions\", \"body\": {\"model\": \"gpt-3.5-turbo-0125\", \"messages\": [{\"role\": \"system\", \"content\": \"You are a helpful assistant.\"},{\"role\": \"user\", \"content\": \"Hello world!\"}],\"max_tokens\": 1000}}\n",
      "{\"custom_id\": \"request-2\", \"method\": \"POST\", \"url\": \"/v1/chat/completions\", \"body\": {\"model\": \"gpt-3.5-turbo-0125\", \"messages\": [{\"role\": \"system\", \"content\": \"You are an unhelpful assistant.\"},{\"role\": \"user\", \"content\": \"Hello world!\"}],\"max_tokens\": 1000}}\n"
     ]
    }
   ],
   "source": [
    "from openai import OpenAI\n",
    "client = OpenAI()\n",
    "\n",
    "file_response = client.files.content(\"file-0ugs6PcWmstxVjVo1oMLjh0h\")\n",
    "print(file_response.text)"
   ]
  },
  {
   "cell_type": "code",
   "execution_count": 12,
   "metadata": {},
   "outputs": [
    {
     "data": {
      "text/plain": [
       "SyncCursorPage[Batch](data=[Batch(id='batch_66f3c95740448190907a4f57b2a36bb0', completion_window='24h', created_at=1727252823, endpoint='/v1/chat/completions', input_file_id='file-XmBe2P2NnypD23VdXEi07K1J', object='batch', status='completed', cancelled_at=None, cancelling_at=None, completed_at=1727252825, error_file_id=None, errors=None, expired_at=None, expires_at=1727339223, failed_at=None, finalizing_at=1727252825, in_progress_at=1727252823, metadata={'description': 'nightly eval job'}, output_file_id='file-RGLAlaNV3IkMrCPP09bMbfnx', request_counts=BatchRequestCounts(completed=2, failed=0, total=2)), Batch(id='batch_66f3c354905c81909ac47790b26a32a2', completion_window='24h', created_at=1727251284, endpoint='/v1/chat/completions', input_file_id='file-Ub9AZbvaeGc4oEykhhbun8eF', object='batch', status='completed', cancelled_at=None, cancelling_at=None, completed_at=1727251287, error_file_id=None, errors=None, expired_at=None, expires_at=1727337684, failed_at=None, finalizing_at=1727251286, in_progress_at=1727251285, metadata={'description': 'nightly eval job'}, output_file_id='file-3WWqo86hhH7cVZslYXQISlhw', request_counts=BatchRequestCounts(completed=2, failed=0, total=2)), Batch(id='batch_66f3b1184efc8190b6a7c533d917426e', completion_window='24h', created_at=1727246616, endpoint='/v1/chat/completions', input_file_id='file-0ugs6PcWmstxVjVo1oMLjh0h', object='batch', status='completed', cancelled_at=None, cancelling_at=None, completed_at=1727246619, error_file_id=None, errors=None, expired_at=None, expires_at=1727333016, failed_at=None, finalizing_at=1727246619, in_progress_at=1727246616, metadata={'description': 'nightly eval job'}, output_file_id='file-kv4GsCrcbEGXCjTregSTeUCB', request_counts=BatchRequestCounts(completed=2, failed=0, total=2))], object='list', first_id='batch_66f3c95740448190907a4f57b2a36bb0', last_id='batch_66f3b1184efc8190b6a7c533d917426e', has_more=False)"
      ]
     },
     "execution_count": 12,
     "metadata": {},
     "output_type": "execute_result"
    }
   ],
   "source": [
    "from openai import OpenAI\n",
    "client = OpenAI()\n",
    "\n",
    "client.batches.list(limit=10)\n"
   ]
  }
 ],
 "metadata": {
  "kernelspec": {
   "display_name": "Python 3",
   "language": "python",
   "name": "python3"
  },
  "language_info": {
   "codemirror_mode": {
    "name": "ipython",
    "version": 3
   },
   "file_extension": ".py",
   "mimetype": "text/x-python",
   "name": "python",
   "nbconvert_exporter": "python",
   "pygments_lexer": "ipython3",
   "version": "3.11.9"
  }
 },
 "nbformat": 4,
 "nbformat_minor": 2
}
